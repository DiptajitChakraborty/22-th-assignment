{
 "cells": [
  {
   "cell_type": "code",
   "execution_count": 1,
   "id": "e2d113d2-15f2-48de-857b-60a7426da598",
   "metadata": {},
   "outputs": [
    {
     "name": "stdout",
     "output_type": "stream",
     "text": [
      "Requirement already satisfied: pandas in /opt/conda/lib/python3.10/site-packages (1.5.2)\n",
      "Requirement already satisfied: python-dateutil>=2.8.1 in /opt/conda/lib/python3.10/site-packages (from pandas) (2.8.2)\n",
      "Requirement already satisfied: pytz>=2020.1 in /opt/conda/lib/python3.10/site-packages (from pandas) (2022.6)\n",
      "Requirement already satisfied: numpy>=1.21.0 in /opt/conda/lib/python3.10/site-packages (from pandas) (1.23.5)\n",
      "Requirement already satisfied: six>=1.5 in /opt/conda/lib/python3.10/site-packages (from python-dateutil>=2.8.1->pandas) (1.16.0)\n",
      "Note: you may need to restart the kernel to use updated packages.\n"
     ]
    }
   ],
   "source": [
    "pip install pandas"
   ]
  },
  {
   "cell_type": "code",
   "execution_count": 7,
   "id": "0f9923e8-e91f-4748-b43d-2740ecf4c867",
   "metadata": {},
   "outputs": [
    {
     "name": "stdout",
     "output_type": "stream",
     "text": [
      "0     4\n",
      "1     8\n",
      "2    15\n",
      "3    16\n",
      "4    23\n",
      "5    42\n",
      "dtype: int64\n"
     ]
    }
   ],
   "source": [
    "#Q1. Create a Pandas Series that contains the following data: 4, 8, 15, 16, 23, and 42. Then, print the series.\n",
    "#Ans:\n",
    "import pandas as pd\n",
    "data = [4,8,15,16,23,42]\n",
    "ser = pd.Series(data)\n",
    "print(ser)"
   ]
  },
  {
   "cell_type": "code",
   "execution_count": 4,
   "id": "e3cf5e1d-37a5-4b4c-a5d0-06c3e4edeb1e",
   "metadata": {},
   "outputs": [
    {
     "data": {
      "text/plain": [
       "pandas.core.series.Series"
      ]
     },
     "execution_count": 4,
     "metadata": {},
     "output_type": "execute_result"
    }
   ],
   "source": [
    "type(ser)"
   ]
  },
  {
   "cell_type": "code",
   "execution_count": 8,
   "id": "a5d195d4-f246-43c6-af36-407267cd320c",
   "metadata": {},
   "outputs": [
    {
     "data": {
      "text/plain": [
       "0          1\n",
       "1          2\n",
       "2       3.45\n",
       "3    4.77785\n",
       "4      dipta\n",
       "5          6\n",
       "6     chakra\n",
       "7          8\n",
       "8          9\n",
       "9         10\n",
       "dtype: object"
      ]
     },
     "execution_count": 8,
     "metadata": {},
     "output_type": "execute_result"
    }
   ],
   "source": [
    "#Q2. Create a variable of list type containing 10 elements in it, and apply pandas.Series function on the variable print it.\n",
    "#Ans:\n",
    "l = [1,2,3.45,4.77785,\"dipta\",6,\"chakra\",8,9,10]\n",
    "pd.Series(l)"
   ]
  },
  {
   "cell_type": "code",
   "execution_count": 10,
   "id": "09e92538-181e-41d7-bebc-3e0057cfccb0",
   "metadata": {},
   "outputs": [
    {
     "name": "stdout",
     "output_type": "stream",
     "text": [
      "     Name  Age  Gender\n",
      "0   Alice   25  Female\n",
      "1     Rob   30    Male\n",
      "2  Claire   27  Female\n"
     ]
    }
   ],
   "source": [
    "#Q3\n",
    "#Ans:\n",
    "import pandas as pd\n",
    "\n",
    "data = {'Name': ['Alice', 'Rob','Claire'],\n",
    "\n",
    "        'Age': [25, 30, 27],\n",
    "\n",
    "        'Gender': ['Female', 'Male', 'Female']}\n",
    "\n",
    "df = pd.DataFrame(data)\n",
    "\n",
    "print(df)"
   ]
  },
  {
   "cell_type": "code",
   "execution_count": 15,
   "id": "426e795c-3c15-4dfc-a6d3-819006621045",
   "metadata": {},
   "outputs": [
    {
     "data": {
      "text/html": [
       "<div>\n",
       "<style scoped>\n",
       "    .dataframe tbody tr th:only-of-type {\n",
       "        vertical-align: middle;\n",
       "    }\n",
       "\n",
       "    .dataframe tbody tr th {\n",
       "        vertical-align: top;\n",
       "    }\n",
       "\n",
       "    .dataframe thead th {\n",
       "        text-align: right;\n",
       "    }\n",
       "</style>\n",
       "<table border=\"1\" class=\"dataframe\">\n",
       "  <thead>\n",
       "    <tr style=\"text-align: right;\">\n",
       "      <th></th>\n",
       "      <th>Class 1</th>\n",
       "      <th>Class 2</th>\n",
       "      <th>Class 3</th>\n",
       "    </tr>\n",
       "  </thead>\n",
       "  <tbody>\n",
       "    <tr>\n",
       "      <th>math avg</th>\n",
       "      <td>22</td>\n",
       "      <td>45</td>\n",
       "      <td>32</td>\n",
       "    </tr>\n",
       "    <tr>\n",
       "      <th>science avg</th>\n",
       "      <td>33</td>\n",
       "      <td>28</td>\n",
       "      <td>41</td>\n",
       "    </tr>\n",
       "    <tr>\n",
       "      <th>english avg</th>\n",
       "      <td>38</td>\n",
       "      <td>36</td>\n",
       "      <td>47</td>\n",
       "    </tr>\n",
       "  </tbody>\n",
       "</table>\n",
       "</div>"
      ],
      "text/plain": [
       "             Class 1  Class 2  Class 3\n",
       "math avg          22       45       32\n",
       "science avg       33       28       41\n",
       "english avg       38       36       47"
      ]
     },
     "execution_count": 15,
     "metadata": {},
     "output_type": "execute_result"
    }
   ],
   "source": [
    "#Q4. What is ‘DataFrame’ in pandas and how is it different from pandas.series? Explain with an example.\n",
    "#Ans:\n",
    "#1.Pandas series is one dimensional whereas Pandas Dataframe is two dimensional.\n",
    "#2.Pandas series is Homogeneous i.e  Series elements must be of the same data type. but Pandas Dataframe is heterogeneous i.e. DataFrame elements can have different data types.\n",
    "#3. Once pandas series is created ,the size of the series object cannot be changd i.e. it is Size-immutable but Elements can be dropped or added in an existing DataFrame. i.e Pands Datframe is size mutable\n",
    "#Example of dataframe in pandas is \n",
    "data = {\n",
    "    \"Class 1\": [22, 33, 38],\n",
    "    \"Class 2\": [45, 28, 36], \n",
    "    \"Class 3\": [32, 41, 47]\n",
    "}\n",
    "df1 = pd.DataFrame(data=data, index=['math avg', 'science avg', 'english avg'])\n",
    "df1\n"
   ]
  },
  {
   "cell_type": "code",
   "execution_count": 20,
   "id": "3a51be78-a657-4c99-9e4f-02d3fe7df2ab",
   "metadata": {},
   "outputs": [
    {
     "name": "stdout",
     "output_type": "stream",
     "text": [
      "1       22\n",
      "2    dipta\n",
      "3       23\n",
      "4    babai\n",
      "5       23\n",
      "6       22\n",
      "7       21\n",
      "dtype: object\n"
     ]
    }
   ],
   "source": [
    "#Example of dataframe in pandas is \n",
    "#Creating a Series from dict\n",
    "data = {'1': 22, '2':\"dipta\", '3': 23, '4': \"babai\", '5': 23, '6': 22, '7': 21}\n",
    "series = pd.Series(data)\n",
    "print(series)\n"
   ]
  },
  {
   "cell_type": "code",
   "execution_count": 22,
   "id": "a4f05e10-87b1-4c4e-97ba-e687959533de",
   "metadata": {},
   "outputs": [],
   "source": [
    "#Q5. What are some common functions you can use to manipulate data in a Pandas DataFrame? Can you give an example of when you might use one of these functions?\n",
    "#Ans:Some common functions we can use to manipulate data in a Pandas DataFrame are 1.map(), 2.apply(), 3.applymap()\n",
    "\n",
    "#map() is used for apply a function to a Series.\n",
    "#apply() is used for  apply a function to a Series or Dataframe \n",
    "#applymap() is used for apply a function to a Dataframe element-wise."
   ]
  },
  {
   "cell_type": "code",
   "execution_count": 26,
   "id": "6cc25513-bd5c-4757-b5bc-01abc9356072",
   "metadata": {},
   "outputs": [
    {
     "data": {
      "text/html": [
       "<div>\n",
       "<style scoped>\n",
       "    .dataframe tbody tr th:only-of-type {\n",
       "        vertical-align: middle;\n",
       "    }\n",
       "\n",
       "    .dataframe tbody tr th {\n",
       "        vertical-align: top;\n",
       "    }\n",
       "\n",
       "    .dataframe thead th {\n",
       "        text-align: right;\n",
       "    }\n",
       "</style>\n",
       "<table border=\"1\" class=\"dataframe\">\n",
       "  <thead>\n",
       "    <tr style=\"text-align: right;\">\n",
       "      <th></th>\n",
       "      <th>Name</th>\n",
       "      <th>age</th>\n",
       "      <th>gender</th>\n",
       "      <th>parents name</th>\n",
       "    </tr>\n",
       "  </thead>\n",
       "  <tbody>\n",
       "    <tr>\n",
       "      <th>0</th>\n",
       "      <td>Prem</td>\n",
       "      <td>14</td>\n",
       "      <td>M</td>\n",
       "      <td>Ram</td>\n",
       "    </tr>\n",
       "    <tr>\n",
       "      <th>1</th>\n",
       "      <td>Chand</td>\n",
       "      <td>16</td>\n",
       "      <td>M</td>\n",
       "      <td>Chumki</td>\n",
       "    </tr>\n",
       "    <tr>\n",
       "      <th>2</th>\n",
       "      <td>Archana</td>\n",
       "      <td>18</td>\n",
       "      <td>F</td>\n",
       "      <td>Chinmay</td>\n",
       "    </tr>\n",
       "    <tr>\n",
       "      <th>3</th>\n",
       "      <td>Chandrani</td>\n",
       "      <td>20</td>\n",
       "      <td>F</td>\n",
       "      <td>Sunil</td>\n",
       "    </tr>\n",
       "    <tr>\n",
       "      <th>4</th>\n",
       "      <td>DIptajit</td>\n",
       "      <td>21</td>\n",
       "      <td>M</td>\n",
       "      <td>NaN</td>\n",
       "    </tr>\n",
       "  </tbody>\n",
       "</table>\n",
       "</div>"
      ],
      "text/plain": [
       "        Name  age gender parents name\n",
       "0       Prem   14      M          Ram\n",
       "1      Chand   16      M       Chumki\n",
       "2    Archana   18      F      Chinmay\n",
       "3  Chandrani   20      F        Sunil\n",
       "4   DIptajit   21      M          NaN"
      ]
     },
     "execution_count": 26,
     "metadata": {},
     "output_type": "execute_result"
    }
   ],
   "source": [
    "import pandas as pd\n",
    "\n",
    "df = pd.DataFrame(\n",
    "    [('Prem', 14, \"M\"), \n",
    "     ('Chand', 16, \"M\"),\n",
    "     ('Archana', 18, \"F\"), \n",
    "     ('Chandrani', 20, \"F\"),\n",
    "     ('DIptajit', 21, \"M\")\n",
    "    ], \n",
    "    columns=['Name', 'age', 'gender']\n",
    ")\n",
    "df\n",
    "\n",
    "mappings = {\n",
    "    'Prem': 'Ram',\n",
    "    'Chand': 'Chumki',\n",
    "    'Archana': 'Chinmay',\n",
    "    'Chandrani': 'Sunil',\n",
    "    'Diptajit': 'Shiva'\n",
    "}\n",
    "\n",
    "df['parents name'] = df['Name'].map(mappings)\n",
    "df\n"
   ]
  },
  {
   "cell_type": "code",
   "execution_count": 27,
   "id": "39022254-627d-42d4-a11e-4bc1148d0d0d",
   "metadata": {},
   "outputs": [
    {
     "name": "stdout",
     "output_type": "stream",
     "text": [
      "   A   B\n",
      "0  1  10\n",
      "1  2  20\n",
      "   A     B\n",
      "0  1  1000\n",
      "1  8  8000\n"
     ]
    }
   ],
   "source": [
    "#Example of apply()\n",
    "import pandas as pd\n",
    "\n",
    "df = pd.DataFrame({'A': [1, 2], 'B': [10, 20]})\n",
    "\n",
    "\n",
    "def cube(x):\n",
    "    return x * x * x\n",
    "\n",
    "\n",
    "df1 = df.apply(cube)\n",
    "\n",
    "print(df)\n",
    "print(df1)"
   ]
  },
  {
   "cell_type": "code",
   "execution_count": 31,
   "id": "e9ba3ce9-e570-42e2-a231-1104b48cdf4a",
   "metadata": {},
   "outputs": [
    {
     "name": "stdout",
     "output_type": "stream",
     "text": [
      "     name    city\n",
      "0  SIRDAZ   ITALY\n",
      "1   PALLI     USA\n",
      "2   ARYAN  DWARKA\n"
     ]
    }
   ],
   "source": [
    "import pandas as pd\n",
    "\n",
    "def up(x):\n",
    "    \n",
    "    return x.upper()\n",
    "\n",
    "data = {\n",
    "  \"name\": [\"Sirdaz\",\"Palli\",\"Aryan\"],\n",
    "  \"city\": [\"Italy\", \"USA\", \"Dwarka\"]\n",
    "}\n",
    "\n",
    "df = pd.DataFrame(data)\n",
    "\n",
    "newdf = df.applymap(up)\n",
    "\n",
    "print(newdf)"
   ]
  },
  {
   "cell_type": "code",
   "execution_count": 30,
   "id": "0fb2eb6c-6be2-4875-9d58-de468c0ee939",
   "metadata": {},
   "outputs": [],
   "source": [
    "#Q6. Which of the following is mutable in nature Series, DataFrame, Panel?\n",
    "#ANs:DataFrame"
   ]
  },
  {
   "cell_type": "code",
   "execution_count": 33,
   "id": "d249c945-2b9e-4a59-92c0-7fe97a32efc0",
   "metadata": {},
   "outputs": [
    {
     "name": "stdout",
     "output_type": "stream",
     "text": [
      "              0     1          2\n",
      "0  Data science  3500     2 yars\n",
      "1       Web Dev  3800  1.9 years\n",
      "2          Java  3200   2.1years\n"
     ]
    }
   ],
   "source": [
    "#Q7. Create a DataFrame using multiple Series. Explain with an example.\n",
    "#Ans:\n",
    "import pandas as pd\n",
    "courses = pd.Series([\"Data science\",\"Web Dev\",\"Java\"])\n",
    "fees = pd.Series([3500,3800,3200])\n",
    "time_bound  = pd.Series([\"2 yars\",\"1.9 years\",\"2.1years\"])\n",
    "df=pd.concat([courses,fees,time_bound],axis=1)\n",
    "print(df)"
   ]
  },
  {
   "cell_type": "code",
   "execution_count": null,
   "id": "b5b91319-0ec3-4fdb-bc55-12f0193262b6",
   "metadata": {},
   "outputs": [],
   "source": []
  }
 ],
 "metadata": {
  "kernelspec": {
   "display_name": "Python 3 (ipykernel)",
   "language": "python",
   "name": "python3"
  },
  "language_info": {
   "codemirror_mode": {
    "name": "ipython",
    "version": 3
   },
   "file_extension": ".py",
   "mimetype": "text/x-python",
   "name": "python",
   "nbconvert_exporter": "python",
   "pygments_lexer": "ipython3",
   "version": "3.10.8"
  }
 },
 "nbformat": 4,
 "nbformat_minor": 5
}
